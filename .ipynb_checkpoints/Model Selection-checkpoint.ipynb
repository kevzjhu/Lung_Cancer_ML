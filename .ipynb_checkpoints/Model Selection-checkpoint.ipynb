{
 "cells": [
  {
   "cell_type": "code",
   "execution_count": 1,
   "id": "bb8f0ee5",
   "metadata": {},
   "outputs": [],
   "source": [
    "import joblib\n",
    "import pandas as pd\n",
    "from sklearn.metrics import accuracy_score, precision_score, recall_score\n",
    "from time import time"
   ]
  },
  {
   "cell_type": "code",
   "execution_count": 3,
   "id": "bd909b2c",
   "metadata": {},
   "outputs": [],
   "source": [
    "X_validation = pd.read_csv(\"Data\\X_validation.csv\")\n",
    "y_validation = pd.read_csv(\"Data\\y_validation.csv\")\n",
    "\n",
    "X_test = pd.read_csv(\"Data\\X_test.csv\")\n",
    "y_test = pd.read_csv(\"Data\\y_validation.csv\")"
   ]
  },
  {
   "cell_type": "code",
   "execution_count": 5,
   "id": "8f74b0b6",
   "metadata": {},
   "outputs": [],
   "source": [
    "models = dict()\n",
    "\n",
    "for m in [\"LR\", \"SVM\", \"MLP\", \"RF\", \"GB\"]:\n",
    "    models[m] = joblib.load(f\"Models\\\\{m}_model.pkl\".format(m))"
   ]
  },
  {
   "cell_type": "code",
   "execution_count": 6,
   "id": "6cac446f",
   "metadata": {},
   "outputs": [
    {
     "name": "stdout",
     "output_type": "stream",
     "text": [
      "{'LR': LogisticRegression(C=1), 'SVM': SVC(C=0.1, gamma=0.01, kernel='poly'), 'MLP': MLPClassifier(activation='tanh'), 'RF': RandomForestClassifier(max_depth=16, n_estimators=50), 'GB': GradientBoostingClassifier(learning_rate=100, n_estimators=250)}\n"
     ]
    }
   ],
   "source": [
    "print(models)"
   ]
  }
 ],
 "metadata": {
  "kernelspec": {
   "display_name": "Python 3 (ipykernel)",
   "language": "python",
   "name": "python3"
  },
  "language_info": {
   "codemirror_mode": {
    "name": "ipython",
    "version": 3
   },
   "file_extension": ".py",
   "mimetype": "text/x-python",
   "name": "python",
   "nbconvert_exporter": "python",
   "pygments_lexer": "ipython3",
   "version": "3.11.4"
  }
 },
 "nbformat": 4,
 "nbformat_minor": 5
}

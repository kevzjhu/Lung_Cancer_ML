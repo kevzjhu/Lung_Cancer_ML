{
 "cells": [
  {
   "cell_type": "code",
   "execution_count": 2,
   "id": "bb8f0ee5",
   "metadata": {},
   "outputs": [],
   "source": [
    "import joblib\n",
    "import pandas as pd\n",
    "from sklearn.metrics import accuracy_score, precision_score, recall_score\n",
    "from time import time"
   ]
  },
  {
   "cell_type": "code",
   "execution_count": 19,
   "id": "bd909b2c",
   "metadata": {},
   "outputs": [],
   "source": [
    "X_validation = pd.read_csv(\"Data\\X_validation.csv\")\n",
    "y_validation = pd.read_csv(\"Data\\y_validation.csv\")\n",
    "\n",
    "X_test = pd.read_csv(\"Data\\X_test.csv\")\n",
    "y_test = pd.read_csv(\"Data\\y_test.csv\")"
   ]
  },
  {
   "cell_type": "code",
   "execution_count": 4,
   "id": "8f74b0b6",
   "metadata": {},
   "outputs": [],
   "source": [
    "models = dict()\n",
    "\n",
    "for m in [\"LR\", \"SVM\", \"MLP\", \"RF\", \"GB\"]:\n",
    "    models[m] = joblib.load(f\"Models\\\\{m}_model.pkl\".format(m))"
   ]
  },
  {
   "cell_type": "code",
   "execution_count": 5,
   "id": "6cac446f",
   "metadata": {},
   "outputs": [
    {
     "name": "stdout",
     "output_type": "stream",
     "text": [
      "{'LR': LogisticRegression(C=1), 'SVM': SVC(C=0.1, gamma=0.01, kernel='poly'), 'MLP': MLPClassifier(activation='tanh'), 'RF': RandomForestClassifier(max_depth=16, n_estimators=50), 'GB': GradientBoostingClassifier(learning_rate=100, n_estimators=250)}\n"
     ]
    }
   ],
   "source": [
    "print(models)"
   ]
  },
  {
   "cell_type": "code",
   "execution_count": 17,
   "id": "70c491ae",
   "metadata": {},
   "outputs": [],
   "source": [
    "#evaluate accuracy, precision, and recall\n",
    "\n",
    "def evaluate_model (name, model, features, labels): \n",
    "    start = time()\n",
    "    pred = model.predict(features)\n",
    "    end = time()\n",
    "    totalTime = round((end - start) * 1000, 3)\n",
    "    accuracy = round(accuracy_score(labels, pred), 3)\n",
    "    precision = round(precision_score(labels, pred), 3)\n",
    "    recall = round(recall_score(labels, pred), 3)\n",
    "    print(f\"{name}\\t Accuracy: {accuracy} / Precision: {precision} / Recall: {recall} / Latency: {totalTime}ms\")"
   ]
  },
  {
   "cell_type": "code",
   "execution_count": 18,
   "id": "5d68b2f9",
   "metadata": {},
   "outputs": [
    {
     "name": "stdout",
     "output_type": "stream",
     "text": [
      "LR\t Accuracy: 0.855 / Precision: 0.862 / Recall: 0.98 / Latency: 4.109ms\n",
      "SVM\t Accuracy: 0.871 / Precision: 0.877 / Recall: 0.98 / Latency: 4.002ms\n",
      "MLP\t Accuracy: 0.823 / Precision: 0.823 / Recall: 1.0 / Latency: 2.85ms\n",
      "RF\t Accuracy: 0.871 / Precision: 0.877 / Recall: 0.98 / Latency: 24.374ms\n",
      "GB\t Accuracy: 0.839 / Precision: 0.86 / Recall: 0.961 / Latency: 4.052ms\n"
     ]
    }
   ],
   "source": [
    "for name, model in models.items():\n",
    "    evaluate_model(name, model, X_validation, y_validation)"
   ]
  },
  {
   "cell_type": "markdown",
   "id": "19755fb6",
   "metadata": {},
   "source": [
    "### Evaluate best model on test dataset"
   ]
  },
  {
   "cell_type": "code",
   "execution_count": 20,
   "id": "72b0438a",
   "metadata": {},
   "outputs": [
    {
     "name": "stdout",
     "output_type": "stream",
     "text": [
      "SVM\t Accuracy: 0.839 / Precision: 0.875 / Recall: 0.942 / Latency: 4.883ms\n"
     ]
    }
   ],
   "source": [
    "evaluate_model(\"SVM\", models[\"SVM\"], X_test, y_test)"
   ]
  }
 ],
 "metadata": {
  "kernelspec": {
   "display_name": "Python 3 (ipykernel)",
   "language": "python",
   "name": "python3"
  },
  "language_info": {
   "codemirror_mode": {
    "name": "ipython",
    "version": 3
   },
   "file_extension": ".py",
   "mimetype": "text/x-python",
   "name": "python",
   "nbconvert_exporter": "python",
   "pygments_lexer": "ipython3",
   "version": "3.11.4"
  }
 },
 "nbformat": 4,
 "nbformat_minor": 5
}

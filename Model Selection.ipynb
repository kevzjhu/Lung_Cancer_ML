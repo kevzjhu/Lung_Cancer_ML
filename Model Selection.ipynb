{
 "cells": [
  {
   "cell_type": "code",
   "execution_count": 1,
   "id": "bb8f0ee5",
   "metadata": {},
   "outputs": [],
   "source": [
    "import joblib\n",
    "import pandas as pd\n",
    "from sklearn.metrics import accuracy_score, precision_score, recall_score\n",
    "from time import time"
   ]
  },
  {
   "cell_type": "code",
   "execution_count": 2,
   "id": "bd909b2c",
   "metadata": {},
   "outputs": [],
   "source": [
    "X_validation = pd.read_csv(\"Data\\X_validation.csv\")\n",
    "y_validation = pd.read_csv(\"Data\\y_validation.csv\")\n",
    "\n",
    "X_test = pd.read_csv(\"Data\\X_test.csv\")\n",
    "y_test = pd.read_csv(\"Data\\y_test.csv\")"
   ]
  },
  {
   "cell_type": "code",
   "execution_count": 3,
   "id": "8f74b0b6",
   "metadata": {},
   "outputs": [],
   "source": [
    "models = dict()\n",
    "\n",
    "for m in [\"LR\", \"SVM\", \"MLP\", \"RF\", \"GB\"]:\n",
    "    models[m] = joblib.load(f\"Models\\\\{m}_model.pkl\".format(m))"
   ]
  },
  {
   "cell_type": "code",
   "execution_count": 4,
   "id": "6cac446f",
   "metadata": {},
   "outputs": [
    {
     "name": "stdout",
     "output_type": "stream",
     "text": [
      "{'LR': LogisticRegression(C=10), 'SVM': SVC(C=10, gamma=0.001, kernel='poly'), 'MLP': MLPClassifier(activation='tanh'), 'RF': RandomForestClassifier(max_depth=8, n_estimators=5), 'GB': GradientBoostingClassifier(learning_rate=1, max_depth=1, n_estimators=50)}\n"
     ]
    }
   ],
   "source": [
    "print(models)"
   ]
  },
  {
   "cell_type": "code",
   "execution_count": 5,
   "id": "70c491ae",
   "metadata": {},
   "outputs": [],
   "source": [
    "#evaluate accuracy, precision, and recall\n",
    "\n",
    "def evaluate_model (name, model, features, labels): \n",
    "    start = time()\n",
    "    pred = model.predict(features)\n",
    "    end = time()\n",
    "    totalTime = round((end - start) * 1000, 3)\n",
    "    accuracy = round(accuracy_score(labels, pred), 3)\n",
    "    precision = round(precision_score(labels, pred), 3)\n",
    "    recall = round(recall_score(labels, pred), 3)\n",
    "    print(f\"{name}\\t Accuracy: {accuracy} / Precision: {precision} / Recall: {recall} / Latency: {totalTime}ms\")"
   ]
  },
  {
   "cell_type": "code",
   "execution_count": 6,
   "id": "5d68b2f9",
   "metadata": {},
   "outputs": [
    {
     "name": "stdout",
     "output_type": "stream",
     "text": [
      "LR\t Accuracy: 0.984 / Precision: 0.983 / Recall: 1.0 / Latency: 2.519ms\n",
      "SVM\t Accuracy: 0.968 / Precision: 0.967 / Recall: 1.0 / Latency: 2.335ms\n",
      "MLP\t Accuracy: 0.952 / Precision: 0.951 / Recall: 1.0 / Latency: 25.921ms\n",
      "RF\t Accuracy: 0.919 / Precision: 0.949 / Recall: 0.966 / Latency: 1.041ms\n",
      "GB\t Accuracy: 0.968 / Precision: 0.983 / Recall: 0.983 / Latency: 0.0ms\n"
     ]
    }
   ],
   "source": [
    "for name, model in models.items():\n",
    "    evaluate_model(name, model, X_validation, y_validation)"
   ]
  },
  {
   "cell_type": "markdown",
   "id": "19755fb6",
   "metadata": {},
   "source": [
    "### Evaluate best model on test dataset"
   ]
  },
  {
   "cell_type": "code",
   "execution_count": 7,
   "id": "72b0438a",
   "metadata": {},
   "outputs": [
    {
     "name": "stdout",
     "output_type": "stream",
     "text": [
      "LR\t Accuracy: 0.935 / Precision: 0.932 / Recall: 1.0 / Latency: 3.001ms\n"
     ]
    }
   ],
   "source": [
    "evaluate_model(\"LR\", models[\"LR\"], X_test, y_test)"
   ]
  }
 ],
 "metadata": {
  "kernelspec": {
   "display_name": "Python 3 (ipykernel)",
   "language": "python",
   "name": "python3"
  },
  "language_info": {
   "codemirror_mode": {
    "name": "ipython",
    "version": 3
   },
   "file_extension": ".py",
   "mimetype": "text/x-python",
   "name": "python",
   "nbconvert_exporter": "python",
   "pygments_lexer": "ipython3",
   "version": "3.11.4"
  }
 },
 "nbformat": 4,
 "nbformat_minor": 5
}
